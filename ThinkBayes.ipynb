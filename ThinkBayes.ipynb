{
 "cells": [
  {
   "cell_type": "code",
   "execution_count": 20,
   "metadata": {
    "collapsed": false
   },
   "outputs": [],
   "source": [
    "from thinkbayes import Pmf\n",
    "import thinkbayes as tb"
   ]
  },
  {
   "cell_type": "code",
   "execution_count": 21,
   "metadata": {
    "collapsed": false
   },
   "outputs": [],
   "source": [
    "pmf = Pmf()\n",
    "for x in [1,2,3,4,5,6]:\n",
    "    pmf.Set(x, 1/6)\n",
    "    "
   ]
  },
  {
   "cell_type": "code",
   "execution_count": 22,
   "metadata": {
    "collapsed": false
   },
   "outputs": [
    {
     "data": {
      "text/plain": [
       "{1: 0.16666666666666666,\n",
       " 2: 0.16666666666666666,\n",
       " 3: 0.16666666666666666,\n",
       " 4: 0.16666666666666666,\n",
       " 5: 0.16666666666666666,\n",
       " 6: 0.16666666666666666}"
      ]
     },
     "execution_count": 22,
     "metadata": {},
     "output_type": "execute_result"
    }
   ],
   "source": [
    "pmf.GetDict()\n"
   ]
  },
  {
   "cell_type": "code",
   "execution_count": 23,
   "metadata": {
    "collapsed": false
   },
   "outputs": [
    {
     "name": "stdout",
     "output_type": "stream",
     "text": [
      "0.14285714285714285\n"
     ]
    }
   ],
   "source": [
    "pmf = Pmf()\n",
    "text = \"This is black and this is blue but this is neither black nur blue\"\n",
    "word_list = [word.lower() for word in text.split()]\n",
    "for word in word_list:\n",
    "    pmf.Incr(word, 1)\n",
    "pmf.Normalize()\n",
    "print(pmf.Prob(\"black\"))"
   ]
  },
  {
   "cell_type": "markdown",
   "metadata": {},
   "source": [
    "# The cookie problem\n",
    "Choose a vanilla cookie from one of two bowls which contain a known number of vanilla and chocolate cookies each. Bowl 1 contains 30 vanilla and 10 chocolate cookies, bowl 2 contains 20 of each.\n",
    "\n",
    "Now we want to determine the probablitity that it was taken from bowl 1 resp. bowl 2.\n",
    "\n",
    "The hypotheses are:\n",
    "* Bowl 1 - the cookie was taken from bowl 1.\n",
    "* Bowl 2 - the cookie was taken from bowl 2.\n",
    "Because we have initially two equally probable hypotheses the prior priority is 1/2 for each.\n",
    "The distribution is called *prior distribution*."
   ]
  },
  {
   "cell_type": "code",
   "execution_count": 24,
   "metadata": {
    "collapsed": true
   },
   "outputs": [],
   "source": [
    "pmf = Pmf()\n",
    "pmf.Set('Bowl 1', 0.5)\n",
    "pmf.Set('Bowl 2', 0.5)"
   ]
  },
  {
   "cell_type": "markdown",
   "metadata": {},
   "source": [
    "To udate the distribution based on new data (the vanilla cookie), we multiply each prior by the corresponding likelihood. The likelihood of drawing a vanilla cookie from bowl 1 is 3/4. The likelihood for bowl 2 is 1/2."
   ]
  },
  {
   "cell_type": "code",
   "execution_count": 25,
   "metadata": {
    "collapsed": true
   },
   "outputs": [],
   "source": [
    "pmf.Mult('Bowl 1', 0.75)\n",
    "pmf.Mult('Bowl 2', 0.5)"
   ]
  },
  {
   "cell_type": "markdown",
   "metadata": {},
   "source": [
    "After this update we need to renormalize the distribution. This works because our hypotheses are mutually exclusive and collectively exhaustive.\n",
    "\n",
    "Now the distribution contains the posterior probability for each hypothesis, which is called the *posterior distribution*."
   ]
  },
  {
   "cell_type": "code",
   "execution_count": 26,
   "metadata": {
    "collapsed": false
   },
   "outputs": [
    {
     "name": "stdout",
     "output_type": "stream",
     "text": [
      "The posterior probability for bowl 1 is: 0.6000000000000001\n"
     ]
    }
   ],
   "source": [
    "pmf.Normalize()\n",
    "print(\"The posterior probability for bowl 1 is: {}\".format(pmf.Prob('Bowl 1')))"
   ]
  }
 ],
 "metadata": {
  "kernelspec": {
   "display_name": "Python 3",
   "language": "python",
   "name": "python3"
  },
  "language_info": {
   "codemirror_mode": {
    "name": "ipython",
    "version": 3
   },
   "file_extension": ".py",
   "mimetype": "text/x-python",
   "name": "python",
   "nbconvert_exporter": "python",
   "pygments_lexer": "ipython3",
   "version": "3.5.2"
  }
 },
 "nbformat": 4,
 "nbformat_minor": 0
}
