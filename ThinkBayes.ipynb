{
 "cells": [
  {
   "cell_type": "code",
   "execution_count": 1,
   "metadata": {
    "collapsed": false
   },
   "outputs": [],
   "source": [
    "from thinkbayes import Pmf\n",
    "import thinkbayes as tb"
   ]
  },
  {
   "cell_type": "code",
   "execution_count": 2,
   "metadata": {
    "collapsed": false
   },
   "outputs": [],
   "source": [
    "pmf = Pmf()\n",
    "for x in [1,2,3,4,5,6]:\n",
    "    pmf.Set(x, 1/6)\n",
    "    "
   ]
  },
  {
   "cell_type": "code",
   "execution_count": 3,
   "metadata": {
    "collapsed": false
   },
   "outputs": [
    {
     "data": {
      "text/plain": [
       "{1: 0.16666666666666666,\n",
       " 2: 0.16666666666666666,\n",
       " 3: 0.16666666666666666,\n",
       " 4: 0.16666666666666666,\n",
       " 5: 0.16666666666666666,\n",
       " 6: 0.16666666666666666}"
      ]
     },
     "execution_count": 3,
     "metadata": {},
     "output_type": "execute_result"
    }
   ],
   "source": [
    "pmf.GetDict()\n"
   ]
  },
  {
   "cell_type": "code",
   "execution_count": 4,
   "metadata": {
    "collapsed": false
   },
   "outputs": [
    {
     "name": "stdout",
     "output_type": "stream",
     "text": [
      "0.14285714285714285\n"
     ]
    }
   ],
   "source": [
    "pmf = Pmf()\n",
    "text = \"This is black and this is blue but this is neither black nur blue\"\n",
    "word_list = [word.lower() for word in text.split()]\n",
    "for word in word_list:\n",
    "    pmf.Incr(word, 1)\n",
    "pmf.Normalize()\n",
    "print(pmf.Prob(\"black\"))"
   ]
  },
  {
   "cell_type": "markdown",
   "metadata": {},
   "source": [
    "# The cookie problem\n",
    "Choose a vanilla cookie from one of two bowls which contain a known number of vanilla and chocolate cookies each. Bowl 1 contains 30 vanilla and 10 chocolate cookies, bowl 2 contains 20 of each.\n",
    "\n",
    "Now we want to determine the probablitity that it was taken from bowl 1 resp. bowl 2.\n",
    "\n",
    "The hypotheses are:\n",
    "* Bowl 1 - the cookie was taken from bowl 1.\n",
    "* Bowl 2 - the cookie was taken from bowl 2.\n",
    "\n",
    "Because we have initially two equally probable hypotheses the prior priority is 1/2 for each.\n",
    "The distribution is called *prior distribution*."
   ]
  },
  {
   "cell_type": "code",
   "execution_count": 5,
   "metadata": {
    "collapsed": true
   },
   "outputs": [],
   "source": [
    "pmf = Pmf()\n",
    "pmf.Set('Bowl 1', 0.5)\n",
    "pmf.Set('Bowl 2', 0.5)"
   ]
  },
  {
   "cell_type": "markdown",
   "metadata": {},
   "source": [
    "To udate the distribution based on new data (the vanilla cookie), we multiply each prior by the corresponding likelihood. The likelihood of drawing a vanilla cookie from bowl 1 is 3/4. The likelihood for bowl 2 is 1/2."
   ]
  },
  {
   "cell_type": "code",
   "execution_count": 6,
   "metadata": {
    "collapsed": true
   },
   "outputs": [],
   "source": [
    "pmf.Mult('Bowl 1', 0.75)\n",
    "pmf.Mult('Bowl 2', 0.5)"
   ]
  },
  {
   "cell_type": "markdown",
   "metadata": {},
   "source": [
    "After this update we need to renormalize the distribution. This works because our hypotheses are mutually exclusive and collectively exhaustive.\n",
    "\n",
    "Now the distribution contains the posterior probability for each hypothesis, which is called the *posterior distribution*."
   ]
  },
  {
   "cell_type": "code",
   "execution_count": 8,
   "metadata": {
    "collapsed": false
   },
   "outputs": [
    {
     "name": "stdout",
     "output_type": "stream",
     "text": [
      "The posterior probability for bowl 1 is: 0.6000000000000001\n"
     ]
    }
   ],
   "source": [
    "pmf.Normalize()\n",
    "print(\"The posterior probability for bowl 1 is: {}\".format(pmf.Prob('Bowl 1')))"
   ]
  },
  {
   "cell_type": "markdown",
   "metadata": {},
   "source": [
    "# The Bayesian Framework\n",
    "We simply encapsulate the code of our last problem into a class."
   ]
  },
  {
   "cell_type": "code",
   "execution_count": 20,
   "metadata": {
    "collapsed": false
   },
   "outputs": [
    {
     "name": "stdout",
     "output_type": "stream",
     "text": [
      "Bowl 2 0.4\n",
      "Bowl 1 0.6000000000000001\n"
     ]
    }
   ],
   "source": [
    "class Cookie(Pmf):\n",
    "    def __init__(self, hypos):\n",
    "        Pmf.__init__(self)\n",
    "        for hypo in hypos:\n",
    "            self.Set(hypo, 1) # just initialize probability here ...\n",
    "        self.Normalize()      # ... then normalize\n",
    "    def Update(self, data):\n",
    "        for hypo in self.Values():\n",
    "            like = self.Likelihood(data, hypo)\n",
    "            self.Mult(hypo, like)\n",
    "        self.Normalize()\n",
    "    \n",
    "    mixes = {'Bowl 1': {'vanilla':0.75, 'chocolate':0.25},\n",
    "             'Bowl 2': {'vanilla':0.5, 'chocolate':0.5},\n",
    "            }\n",
    "    \n",
    "    def Likelihood(self, data, hypo):\n",
    "        mix = self.mixes[hypo]\n",
    "        like = mix[data]\n",
    "        return like\n",
    "\n",
    "hypos = ['Bowl 1', 'Bowl 2']\n",
    "pmf = Cookie(hypos)\n",
    "pmf.Update('vanilla')\n",
    "for hypo, prob in pmf.Items():\n",
    "    print(hypo, prob)\n"
   ]
  },
  {
   "cell_type": "markdown",
   "metadata": {},
   "source": [
    "This code is not much of an improvement. But at least it generalizes a bit: we can draw multiple cookies (with replacement)."
   ]
  },
  {
   "cell_type": "code",
   "execution_count": 23,
   "metadata": {
    "collapsed": false
   },
   "outputs": [
    {
     "name": "stdout",
     "output_type": "stream",
     "text": [
      "Bowl 2 0.3189037682964808\n",
      "Bowl 1 0.6810962317035191\n"
     ]
    }
   ],
   "source": [
    "dataset = ['vanilla', 'chocolate', 'vanilla']\n",
    "for data in dataset:\n",
    "    pmf.Update(data)\n",
    "for hypo, prob in pmf.Items():\n",
    "    print(hypo, prob)"
   ]
  },
  {
   "cell_type": "markdown",
   "metadata": {},
   "source": [
    "# Encapsulating the Framework\n",
    "Class Cookie can be generalized to solve other problems. thinkbayes.Suite is such a generalization.\n",
    "\n",
    "To apply Suite to a problem derive a class from it and overwrite the Likelihood method.\n",
    "\n",
    "Let us apply Suite to the Monty Hall problem."
   ]
  },
  {
   "cell_type": "code",
   "execution_count": 26,
   "metadata": {
    "collapsed": false
   },
   "outputs": [
    {
     "name": "stdout",
     "output_type": "stream",
     "text": [
      "A 0.3333333333333333\n",
      "B 0.0\n",
      "C 0.6666666666666666\n"
     ]
    }
   ],
   "source": [
    "from thinkbayes import Suite\n",
    "\n",
    "class Monty(Suite):\n",
    "    def Likelihood(self, data, hypo):\n",
    "        if hypo == data:\n",
    "            return 0\n",
    "        elif hypo == 'A':   # the first door chosen by the player\n",
    "            return 0.5\n",
    "        else:\n",
    "            return 1\n",
    "\n",
    "suite = Monty('ABC')  # all possible hypotheses, in this case doors\n",
    "suite.Update('B')     # the door Monty opened\n",
    "suite.Print()         # print the resulting probabilities\n"
   ]
  }
 ],
 "metadata": {
  "kernelspec": {
   "display_name": "Python 3",
   "language": "python",
   "name": "python3"
  },
  "language_info": {
   "codemirror_mode": {
    "name": "ipython",
    "version": 3
   },
   "file_extension": ".py",
   "mimetype": "text/x-python",
   "name": "python",
   "nbconvert_exporter": "python",
   "pygments_lexer": "ipython3",
   "version": "3.4.3"
  }
 },
 "nbformat": 4,
 "nbformat_minor": 0
}
